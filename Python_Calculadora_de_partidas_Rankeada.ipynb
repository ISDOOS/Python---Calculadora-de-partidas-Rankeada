{
  "nbformat": 4,
  "nbformat_minor": 0,
  "metadata": {
    "colab": {
      "provenance": []
    },
    "kernelspec": {
      "name": "python3",
      "display_name": "Python 3"
    },
    "language_info": {
      "name": "python"
    }
  },
  "cells": [
    {
      "cell_type": "markdown",
      "source": [
        "No primeiro exemplo, os dados estão previamente inseridos e podem ser importados de uma base de dados."
      ],
      "metadata": {
        "id": "WAE8ch0Gzrnv"
      }
    },
    {
      "cell_type": "code",
      "execution_count": 3,
      "metadata": {
        "colab": {
          "base_uri": "https://localhost:8080/"
        },
        "id": "63AL-g0ozMjg",
        "outputId": "ea8d7e42-870f-4c6c-e06e-e13bb3f0fdf9"
      },
      "outputs": [
        {
          "output_type": "stream",
          "name": "stdout",
          "text": [
            "O Herói tem um saldo de 55 e está no nível de Ouro\n"
          ]
        }
      ],
      "source": [
        "def calcular_nivel(vitorias, derrotas):\n",
        "    saldo_vitorias = vitorias - derrotas\n",
        "\n",
        "    if vitorias < 10:\n",
        "        nivel = \"Ferro\"\n",
        "    elif 10 <= vitorias <= 20:\n",
        "        nivel = \"Bronze\"\n",
        "    elif 21 <= vitorias <= 50:\n",
        "        nivel = \"Prata\"\n",
        "    elif 51 <= vitorias <= 80:\n",
        "        nivel = \"Ouro\"\n",
        "    elif 81 <= vitorias <= 90:\n",
        "        nivel = \"Diamante\"\n",
        "    elif 91 <= vitorias <= 100:\n",
        "        nivel = \"Lendário\"\n",
        "    else:\n",
        "        nivel = \"Imortal\"\n",
        "\n",
        "    return saldo_vitorias, nivel\n",
        "\n",
        "# Exemplo de uso da função:\n",
        "vit = 75  # Substitua com a quantidade de vitórias desejada\n",
        "der = 20  # Substitua com a quantidade de derrotas desejada\n",
        "\n",
        "saldo, nivel = calcular_nivel(vit, der)\n",
        "print(f\"O Herói tem um saldo de {saldo} e está no nível de {nivel}\")\n"
      ]
    },
    {
      "cell_type": "markdown",
      "source": [
        "Neste exemplo os dados podem ser inseridos manualmente"
      ],
      "metadata": {
        "id": "2opADgrQzske"
      }
    },
    {
      "cell_type": "code",
      "source": [
        "def calcularNivel(vitorias, derrotas):\n",
        "    saldoVitorias = vitorias - derrotas\n",
        "    nivel = \"\"\n",
        "\n",
        "    if vitorias < 10:\n",
        "        nivel = \"Ferro\"\n",
        "    elif 10 <= vitorias <= 20:\n",
        "        nivel = \"Bronze\"\n",
        "    elif 21 <= vitorias <= 50:\n",
        "        nivel = \"Prata\"\n",
        "    elif 51 <= vitorias <= 80:\n",
        "        nivel = \"Ouro\"\n",
        "    elif 81 <= vitorias <= 90:\n",
        "        nivel = \"Diamante\"\n",
        "    elif 91 <= vitorias <= 100:\n",
        "        nivel = \"Lendário\"\n",
        "    else:\n",
        "        nivel = \"Imortal\"\n",
        "\n",
        "    return saldoVitorias, nivel\n",
        "\n",
        "# Solicitar ao usuário que insira a quantidade de vitórias e derrotas\n",
        "vit = int(input(\"Digite a quantidade de vitórias: \"))\n",
        "der = int(input(\"Digite a quantidade de derrotas: \"))\n",
        "\n",
        "saldo, nivel = calcularNivel(vit, der)\n",
        "print(f\"O Herói tem um saldo de {saldo} e está no nível de {nivel}\")\n"
      ],
      "metadata": {
        "colab": {
          "base_uri": "https://localhost:8080/"
        },
        "id": "zdki68E8zuVO",
        "outputId": "60c1e996-1177-4654-d5f3-2cf46e002a67"
      },
      "execution_count": 4,
      "outputs": [
        {
          "output_type": "stream",
          "name": "stdout",
          "text": [
            "Digite a quantidade de vitórias: 75\n",
            "Digite a quantidade de derrotas: 20\n",
            "O Herói tem um saldo de 55 e está no nível de Ouro\n"
          ]
        }
      ]
    }
  ]
}